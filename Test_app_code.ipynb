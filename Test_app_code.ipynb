{
 "cells": [
  {
   "cell_type": "code",
   "execution_count": null,
   "id": "8cd3ff09-59cf-4a20-9c51-6dc0b6122e62",
   "metadata": {},
   "outputs": [],
   "source": [
    "import os\n",
    "#from dotenv import load_dotenv\n",
    "#load_dotenv()\n",
    "from sqlalchemy.sql import func\n",
    "from sqlalchemy import create_engine\n",
    "from sqlalchemy.ext.automap import automap_base\n",
    "from sqlalchemy.orm import Session\n",
    "from sqlalchemy import create_engine\n",
    "import matplotlib.pyplot as plt\n",
    "from sqlalchemy import Column, Integer, String, Float\n",
    "import numpy as np\n",
    "import pandas as pd\n",
    "\n",
    "\n",
    "#################################################\n",
    "# Database Setup\n",
    "#################################################\n",
    "engines = create_engine(\"sqlite:///Datasets//Weather_3.db\")\n",
    "\n",
    "# Save reference to the table\n",
    "\n",
    "conn = engines.connect()\n",
    "Base = automap_base()\n",
    "Base.prepare(engines, reflect=True)\n",
    "session = Session(conn)\n",
    "Base.classes.keys()\n",
    "# Performs database schema inspection\n",
    "#insp = sqlalchemy.inspect(engines)\n",
    "#print(insp.get_table_names())\n",
    "Wtr = Base.classes.Weather_Raw\n",
    "St_Cd = Base.classes.State_Code\n",
    "join = session.query( Wtr , St_Cd ).filter(Wtr.State == St_Cd.Code).statement\n",
    "df = pd.read_sql_query(join, session.bind)\n",
    "print(df)\n",
    "df1 = df.loc[((df['State'] == 1) & (df['Year'] == 1895) )]\n",
    "df1 = df1.drop(['Element' , 'County', 'Code' ,'State'] ,  axis=1)\n",
    "\n",
    "df_avg = round(df1.groupby(['State_1', 'Year']).mean(), 2)\n",
    "print(df_avg)\n",
    "session.close()"
   ]
  }
 ],
 "metadata": {
  "kernelspec": {
   "display_name": "Python 3 (ipykernel)",
   "language": "python",
   "name": "python3"
  },
  "language_info": {
   "codemirror_mode": {
    "name": "ipython",
    "version": 3
   },
   "file_extension": ".py",
   "mimetype": "text/x-python",
   "name": "python",
   "nbconvert_exporter": "python",
   "pygments_lexer": "ipython3",
   "version": "3.9.7"
  }
 },
 "nbformat": 4,
 "nbformat_minor": 5
}
