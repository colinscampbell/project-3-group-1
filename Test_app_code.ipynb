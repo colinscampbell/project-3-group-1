{
 "cells": [
  {
   "cell_type": "code",
<<<<<<< HEAD
   "execution_count": 136,
=======
   "execution_count": 5,
>>>>>>> prina
   "id": "8cd3ff09-59cf-4a20-9c51-6dc0b6122e62",
   "metadata": {},
   "outputs": [
    {
<<<<<<< HEAD
     "name": "stdout",
     "output_type": "stream",
     "text": [
      "                 State    Jan    Feb    Mar    Apr    May    Jun    Jul  \\\n",
      "State_1    Year                                                           \n",
      "Arizona    2012    2.0  47.07  47.43  52.98  62.06  70.54  79.83  80.59   \n",
      "           2013    2.0  40.70  43.82  56.39  60.93  68.75  80.61  81.56   \n",
      "           2014    2.0  48.32  51.81  55.49  60.61  68.13  79.08  82.02   \n",
      "           2015    2.0  46.73  53.59  57.71  59.79  64.23  79.58  79.49   \n",
      "           2016    2.0  43.60  52.39  56.54  59.89  65.99  81.15  83.19   \n",
      "...                ...    ...    ...    ...    ...    ...    ...    ...   \n",
      "Washington 2017   45.0  26.99  33.07  40.70  45.19  54.17  59.78  66.76   \n",
      "           2018   45.0  37.21  34.04  40.02  46.29  57.76  58.59  67.51   \n",
      "           2019   45.0  35.96  27.44  37.81  47.24  56.03  59.79  64.02   \n",
      "           2020   45.0  36.15  36.90  39.34  46.89  53.99  58.27  64.69   \n",
      "           2021   45.0  36.26  33.01  40.64  47.61  53.22  64.76  69.19   \n",
      "\n",
      "                   Aug    Sep    Oct    Nov    Dec  \n",
      "State_1    Year                                     \n",
      "Arizona    2012  81.37  74.75  65.30  55.55  44.38  \n",
      "           2013  79.45  73.69  60.60  53.01  43.69  \n",
      "           2014  77.40  75.22  66.25  53.14  46.07  \n",
      "           2015  81.71  75.97  65.82  50.15  42.79  \n",
      "           2016  78.46  72.79  67.61  54.63  46.73  \n",
      "...                ...    ...    ...    ...    ...  \n",
      "Washington 2017  68.45  60.35  47.22  39.33  31.76  \n",
      "           2018  66.15  57.00  48.40  40.13  34.90  \n",
      "           2019  66.48  57.87  43.89  38.99  35.44  \n",
      "           2020  65.71  61.71  49.32  39.11  35.55  \n",
      "           2021  65.94  58.64  47.61  41.43  31.22  \n",
      "\n",
      "[100 rows x 13 columns]\n"
     ]
=======
     "data": {
      "text/plain": [
       "['State_Code', 'Weather_Raw', 'weather_data_project']"
      ]
     },
     "execution_count": 5,
     "metadata": {},
     "output_type": "execute_result"
>>>>>>> prina
    }
   ],
   "source": [
    "import os\n",
    "#from dotenv import load_dotenv\n",
    "#load_dotenv()\n",
    "from sqlalchemy.sql import func\n",
    "from sqlalchemy import create_engine\n",
    "from sqlalchemy.ext.automap import automap_base\n",
    "from sqlalchemy.orm import Session\n",
    "from sqlalchemy import create_engine\n",
    "import matplotlib.pyplot as plt\n",
    "from sqlalchemy import Column, Integer, String, Float\n",
    "import numpy as np\n",
    "import pandas as pd\n",
<<<<<<< HEAD
=======
    "import os\n",
>>>>>>> prina
    "\n",
    "\n",
    "#################################################\n",
    "# Database Setup\n",
    "#################################################\n",
    "engines = create_engine(\"sqlite:///Datasets//Weather_3.db\")\n",
    "\n",
    "# Save reference to the table\n",
    "\n",
    "conn = engines.connect()\n",
    "Base = automap_base()\n",
    "Base.prepare(engines, reflect=True)\n",
    "session = Session(conn)\n",
<<<<<<< HEAD
    "Base.classes.keys()\n",
    "# Performs database schema inspection\n",
    "#insp = sqlalchemy.inspect(engines)\n",
    "#print(insp.get_table_names())\n",
=======
    "Base.classes.keys()"
   ]
  },
  {
   "cell_type": "code",
   "execution_count": 6,
   "id": "7ba2cf35-ba6b-4a49-b24b-b9bb50f549d2",
   "metadata": {},
   "outputs": [],
   "source": [
    "# Performs database schema inspection\n",
    "#insp = sqlalchemy.inspect(engines)\n",
    "#print(insp.get_table_names())"
   ]
  },
  {
   "cell_type": "code",
   "execution_count": 10,
   "id": "fda5492b-f633-463c-9ca1-a97ff74c641a",
   "metadata": {},
   "outputs": [],
   "source": [
>>>>>>> prina
    "Wtr = Base.classes.Weather_Raw\n",
    "St_Cd = Base.classes.State_Code\n",
    "join = session.query( Wtr , St_Cd ).filter(Wtr.State == St_Cd.Code).statement\n",
    "df = pd.read_sql_query(join, session.bind)\n",
    "#print(df)\n",
    "\n",
    "States_list = [2, 3, 4, 8, 11, 18, 30, 45, 41,42]\n",
    "df1 = df.loc[((df['Year'] >= 2012) & (df['Year'] <= 2021) & (df['State'].isin(States_list)))] ### this is where put the 10 states and the years that we are planning to use\n",
    "df1 = df1.drop(['Element' , 'County', 'Code'] ,  axis=1)\n",
<<<<<<< HEAD
    "\n",
    "df_avg = round(df1.groupby(['State_1', 'Year']).mean(), 2)\n",
    "print(df_avg)\n",
    "# Sending output to a CSV file to get the full picture\n",
    "#df_avg.to_csv(r'C:\\Users\\georg\\project-3-group-1\\Datasetsr', index=True, header=True)\n",
    "session.close()\n"
   ]
=======
    "df1.head()"
   ]
  },
  {
   "cell_type": "code",
   "execution_count": 16,
   "id": "1b8f5d1a-8487-41ae-9e4a-01d6998f49bf",
   "metadata": {},
   "outputs": [
    {
     "data": {
      "text/html": [
       "<div>\n",
       "<style scoped>\n",
       "    .dataframe tbody tr th:only-of-type {\n",
       "        vertical-align: middle;\n",
       "    }\n",
       "\n",
       "    .dataframe tbody tr th {\n",
       "        vertical-align: top;\n",
       "    }\n",
       "\n",
       "    .dataframe thead th {\n",
       "        text-align: right;\n",
       "    }\n",
       "</style>\n",
       "<table border=\"1\" class=\"dataframe\">\n",
       "  <thead>\n",
       "    <tr style=\"text-align: right;\">\n",
       "      <th></th>\n",
       "      <th>State_1</th>\n",
       "      <th>Year</th>\n",
       "      <th>State</th>\n",
       "      <th>Jan</th>\n",
       "      <th>Feb</th>\n",
       "      <th>Mar</th>\n",
       "      <th>Apr</th>\n",
       "      <th>May</th>\n",
       "      <th>Jun</th>\n",
       "      <th>Jul</th>\n",
       "      <th>Aug</th>\n",
       "      <th>Sep</th>\n",
       "      <th>Oct</th>\n",
       "      <th>Nov</th>\n",
       "      <th>Dec</th>\n",
       "    </tr>\n",
       "  </thead>\n",
       "  <tbody>\n",
       "    <tr>\n",
       "      <th>0</th>\n",
       "      <td>Arizona</td>\n",
       "      <td>2012</td>\n",
       "      <td>2</td>\n",
       "      <td>47.07</td>\n",
       "      <td>47.43</td>\n",
       "      <td>52.98</td>\n",
       "      <td>62.06</td>\n",
       "      <td>70.54</td>\n",
       "      <td>79.83</td>\n",
       "      <td>80.59</td>\n",
       "      <td>81.37</td>\n",
       "      <td>74.75</td>\n",
       "      <td>65.30</td>\n",
       "      <td>55.55</td>\n",
       "      <td>44.38</td>\n",
       "    </tr>\n",
       "    <tr>\n",
       "      <th>1</th>\n",
       "      <td>Arizona</td>\n",
       "      <td>2013</td>\n",
       "      <td>2</td>\n",
       "      <td>40.70</td>\n",
       "      <td>43.82</td>\n",
       "      <td>56.39</td>\n",
       "      <td>60.93</td>\n",
       "      <td>68.75</td>\n",
       "      <td>80.61</td>\n",
       "      <td>81.56</td>\n",
       "      <td>79.45</td>\n",
       "      <td>73.69</td>\n",
       "      <td>60.60</td>\n",
       "      <td>53.01</td>\n",
       "      <td>43.69</td>\n",
       "    </tr>\n",
       "    <tr>\n",
       "      <th>2</th>\n",
       "      <td>Arizona</td>\n",
       "      <td>2014</td>\n",
       "      <td>2</td>\n",
       "      <td>48.32</td>\n",
       "      <td>51.81</td>\n",
       "      <td>55.49</td>\n",
       "      <td>60.61</td>\n",
       "      <td>68.13</td>\n",
       "      <td>79.08</td>\n",
       "      <td>82.02</td>\n",
       "      <td>77.40</td>\n",
       "      <td>75.22</td>\n",
       "      <td>66.25</td>\n",
       "      <td>53.14</td>\n",
       "      <td>46.07</td>\n",
       "    </tr>\n",
       "    <tr>\n",
       "      <th>3</th>\n",
       "      <td>Arizona</td>\n",
       "      <td>2015</td>\n",
       "      <td>2</td>\n",
       "      <td>46.73</td>\n",
       "      <td>53.59</td>\n",
       "      <td>57.71</td>\n",
       "      <td>59.79</td>\n",
       "      <td>64.23</td>\n",
       "      <td>79.58</td>\n",
       "      <td>79.49</td>\n",
       "      <td>81.71</td>\n",
       "      <td>75.97</td>\n",
       "      <td>65.82</td>\n",
       "      <td>50.15</td>\n",
       "      <td>42.79</td>\n",
       "    </tr>\n",
       "    <tr>\n",
       "      <th>4</th>\n",
       "      <td>Arizona</td>\n",
       "      <td>2016</td>\n",
       "      <td>2</td>\n",
       "      <td>43.60</td>\n",
       "      <td>52.39</td>\n",
       "      <td>56.54</td>\n",
       "      <td>59.89</td>\n",
       "      <td>65.99</td>\n",
       "      <td>81.15</td>\n",
       "      <td>83.19</td>\n",
       "      <td>78.46</td>\n",
       "      <td>72.79</td>\n",
       "      <td>67.61</td>\n",
       "      <td>54.63</td>\n",
       "      <td>46.73</td>\n",
       "    </tr>\n",
       "  </tbody>\n",
       "</table>\n",
       "</div>"
      ],
      "text/plain": [
       "   State_1  Year  State    Jan    Feb    Mar    Apr    May    Jun    Jul  \\\n",
       "0  Arizona  2012      2  47.07  47.43  52.98  62.06  70.54  79.83  80.59   \n",
       "1  Arizona  2013      2  40.70  43.82  56.39  60.93  68.75  80.61  81.56   \n",
       "2  Arizona  2014      2  48.32  51.81  55.49  60.61  68.13  79.08  82.02   \n",
       "3  Arizona  2015      2  46.73  53.59  57.71  59.79  64.23  79.58  79.49   \n",
       "4  Arizona  2016      2  43.60  52.39  56.54  59.89  65.99  81.15  83.19   \n",
       "\n",
       "     Aug    Sep    Oct    Nov    Dec  \n",
       "0  81.37  74.75  65.30  55.55  44.38  \n",
       "1  79.45  73.69  60.60  53.01  43.69  \n",
       "2  77.40  75.22  66.25  53.14  46.07  \n",
       "3  81.71  75.97  65.82  50.15  42.79  \n",
       "4  78.46  72.79  67.61  54.63  46.73  "
      ]
     },
     "execution_count": 16,
     "metadata": {},
     "output_type": "execute_result"
    }
   ],
   "source": [
    "df_avg = round(df1.groupby(['State_1','Year']).mean(), 2)\n",
    "df_avg = df_avg.reset_index()\n",
    "df_avg.head()"
   ]
  },
  {
   "cell_type": "code",
   "execution_count": 8,
   "id": "f79b2a78-3c3e-40c1-bdeb-acca0f1fa18b",
   "metadata": {},
   "outputs": [
    {
     "name": "stdout",
     "output_type": "stream",
     "text": [
      "                 State    Jan    Feb    Mar    Apr    May    Jun    Jul  \\\n",
      "State_1    Year                                                           \n",
      "Arizona    2012      2  47.07  47.43  52.98  62.06  70.54  79.83  80.59   \n",
      "           2013      2  40.70  43.82  56.39  60.93  68.75  80.61  81.56   \n",
      "           2014      2  48.32  51.81  55.49  60.61  68.13  79.08  82.02   \n",
      "           2015      2  46.73  53.59  57.71  59.79  64.23  79.58  79.49   \n",
      "           2016      2  43.60  52.39  56.54  59.89  65.99  81.15  83.19   \n",
      "...                ...    ...    ...    ...    ...    ...    ...    ...   \n",
      "Washington 2017     45  26.99  33.07  40.70  45.19  54.17  59.78  66.76   \n",
      "           2018     45  37.21  34.04  40.02  46.29  57.76  58.59  67.51   \n",
      "           2019     45  35.96  27.44  37.81  47.24  56.03  59.79  64.02   \n",
      "           2020     45  36.15  36.90  39.34  46.89  53.99  58.27  64.69   \n",
      "           2021     45  36.26  33.01  40.64  47.61  53.22  64.76  69.19   \n",
      "\n",
      "                   Aug    Sep    Oct    Nov    Dec  \n",
      "State_1    Year                                     \n",
      "Arizona    2012  81.37  74.75  65.30  55.55  44.38  \n",
      "           2013  79.45  73.69  60.60  53.01  43.69  \n",
      "           2014  77.40  75.22  66.25  53.14  46.07  \n",
      "           2015  81.71  75.97  65.82  50.15  42.79  \n",
      "           2016  78.46  72.79  67.61  54.63  46.73  \n",
      "...                ...    ...    ...    ...    ...  \n",
      "Washington 2017  68.45  60.35  47.22  39.33  31.76  \n",
      "           2018  66.15  57.00  48.40  40.13  34.90  \n",
      "           2019  66.48  57.87  43.89  38.99  35.44  \n",
      "           2020  65.71  61.71  49.32  39.11  35.55  \n",
      "           2021  65.94  58.64  47.61  41.43  31.22  \n",
      "\n",
      "[100 rows x 13 columns]\n"
     ]
    }
   ],
   "source": [
    "df_avg = round(df1.groupby(['State_1', 'Year']).mean(), 2)\n",
    "print(df_avg)\n",
    "session.close()"
   ]
  },
  {
   "cell_type": "code",
   "execution_count": null,
   "id": "770d0e6d-8430-41a1-abbc-4c9c3631812c",
   "metadata": {},
   "outputs": [],
   "source": []
>>>>>>> prina
  }
 ],
 "metadata": {
  "kernelspec": {
<<<<<<< HEAD
   "display_name": "Python 3 (ipykernel)",
=======
   "display_name": "Python 3",
>>>>>>> prina
   "language": "python",
   "name": "python3"
  },
  "language_info": {
   "codemirror_mode": {
    "name": "ipython",
    "version": 3
   },
   "file_extension": ".py",
   "mimetype": "text/x-python",
   "name": "python",
   "nbconvert_exporter": "python",
   "pygments_lexer": "ipython3",
<<<<<<< HEAD
   "version": "3.9.7"
=======
   "version": "3.8.8"
  },
  "widgets": {
   "application/vnd.jupyter.widget-state+json": {
    "state": {},
    "version_major": 2,
    "version_minor": 0
   }
>>>>>>> prina
  }
 },
 "nbformat": 4,
 "nbformat_minor": 5
}
